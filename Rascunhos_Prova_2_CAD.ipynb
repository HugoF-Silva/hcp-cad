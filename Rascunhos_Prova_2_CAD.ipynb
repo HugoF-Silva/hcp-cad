{
  "nbformat": 4,
  "nbformat_minor": 0,
  "metadata": {
    "colab": {
      "provenance": []
    },
    "kernelspec": {
      "name": "python3",
      "display_name": "Python 3"
    },
    "language_info": {
      "name": "python"
    }
  },
  "cells": [
    {
      "cell_type": "markdown",
      "source": [
        "# rotinas úteis"
      ],
      "metadata": {
        "id": "j7nPu8AlL6eD"
      }
    },
    {
      "cell_type": "code",
      "source": [
        "omp_set_num_threads(int t)\n",
        "omp_get_max_threads()\n",
        "omp_get_num_threads()\n",
        "omp_thread_num()\n",
        "omp_get_num_procs()\n",
        "omp_get_wtime()"
      ],
      "metadata": {
        "id": "iJort5QvL6L3"
      },
      "execution_count": null,
      "outputs": []
    },
    {
      "cell_type": "code",
      "source": [
        "! time ./fibonacci]\n",
        "//mede tempo do programa"
      ],
      "metadata": {
        "id": "_cbpJ4J2i8rB"
      },
      "execution_count": null,
      "outputs": []
    },
    {
      "cell_type": "code",
      "source": [
        "! cat /proc/cpuinfo\n",
        "// ter informaçào da cpu"
      ],
      "metadata": {
        "id": "OjclJTtfjDCM"
      },
      "execution_count": null,
      "outputs": []
    },
    {
      "cell_type": "markdown",
      "source": [
        "# diretivas"
      ],
      "metadata": {
        "id": "k45oAqsML47y"
      }
    },
    {
      "cell_type": "markdown",
      "source": [
        "## parallel"
      ],
      "metadata": {
        "id": "PG5dVIZqJWz8"
      }
    },
    {
      "cell_type": "code",
      "execution_count": null,
      "metadata": {
        "colab": {
          "base_uri": "https://localhost:8080/"
        },
        "id": "daqJjqIuV-bT",
        "outputId": "fef97c74-20d5-4dd8-b3d0-84ded359e7b5"
      },
      "outputs": [
        {
          "output_type": "stream",
          "name": "stdout",
          "text": [
            "Writing a.c\n"
          ]
        }
      ],
      "source": [
        "%%writefile a.c\n",
        "#include <stdio.h>\n",
        "#include <omp.h>\n",
        "\n",
        "int main(){\n",
        "    #pragma omp parallel\n",
        "        printf(\"Hello from thread %d\\n\", omp_get_thread_num());\n",
        "    return 0;\n",
        "}"
      ]
    },
    {
      "cell_type": "code",
      "source": [
        "! gcc -fopenmp -o a a.c\n",
        "! ./a"
      ],
      "metadata": {
        "colab": {
          "base_uri": "https://localhost:8080/"
        },
        "id": "stWML4JallUC",
        "outputId": "0e56b1a0-e1bd-44f0-d3f4-413e93446933"
      },
      "execution_count": null,
      "outputs": [
        {
          "output_type": "stream",
          "name": "stdout",
          "text": [
            "Hello from thread 1\n",
            "Hello from thread 0\n"
          ]
        }
      ]
    },
    {
      "cell_type": "markdown",
      "source": [
        "### private"
      ],
      "metadata": {
        "id": "pD_eJahZJctB"
      }
    },
    {
      "cell_type": "code",
      "source": [
        "%%writefile b.c\n",
        "#include <stdio.h>\n",
        "#include <omp.h>\n",
        "\n",
        "int main(){\n",
        "    int a = -1;\n",
        "    #pragma omp parallel private(a)\n",
        "    {\n",
        "        printf(\"dentro = %d\\n\", a);\n",
        "        a = 123;\n",
        "    }\n",
        "    printf(\"fora = %d\\n\", a);\n",
        "    return 0;\n",
        "} // passa a variavel a para dentro de cada thread mas cada thread vai ser instancidada com um valor aleatorio, o que acontece aqui dentro não é passado pra fora\n",
        "// por isso q printa for n ta +1"
      ],
      "metadata": {
        "colab": {
          "base_uri": "https://localhost:8080/"
        },
        "id": "HkMK2cnevnZA",
        "outputId": "ead3af75-703e-4eec-a680-ab4a10670900"
      },
      "execution_count": null,
      "outputs": [
        {
          "output_type": "stream",
          "name": "stdout",
          "text": [
            "Writing b.c\n"
          ]
        }
      ]
    },
    {
      "cell_type": "code",
      "source": [
        "! gcc -fopenmp -o b b.c\n",
        "! ./b"
      ],
      "metadata": {
        "colab": {
          "base_uri": "https://localhost:8080/"
        },
        "id": "q0jjZTpbvp0N",
        "outputId": "15a5d136-60ad-429e-d15a-4c090990a233"
      },
      "execution_count": null,
      "outputs": [
        {
          "output_type": "stream",
          "name": "stdout",
          "text": [
            "dentro = 0\n",
            "dentro = 31611\n",
            "fora = -1\n"
          ]
        }
      ]
    },
    {
      "cell_type": "markdown",
      "source": [
        "### firstprivate"
      ],
      "metadata": {
        "id": "Fq8huKOEKSnE"
      }
    },
    {
      "cell_type": "code",
      "source": [
        "%%writefile c.c\n",
        "#include <stdio.h>\n",
        "#include <omp.h>\n",
        "\n",
        "int main(){\n",
        "    int a = -1;\n",
        "    #pragma omp parallel firstprivate(a)\n",
        "    {\n",
        "        printf(\"dentro = %d\\n\", a);\n",
        "        a = 123;\n",
        "    }\n",
        "    printf(\"fora = %d\\n\", a);\n",
        "    return 0;\n",
        "}//bem parecida com a de cima, só que a variavel nao é inicializada com o valores aleatórios, ela é inicializada com o valor que ela jká possuia antes de começar o bloco paralelo"
      ],
      "metadata": {
        "colab": {
          "base_uri": "https://localhost:8080/"
        },
        "id": "2hLiAv6swq_z",
        "outputId": "be13ccbc-30e9-4126-b439-2e9da736b94d"
      },
      "execution_count": null,
      "outputs": [
        {
          "output_type": "stream",
          "name": "stdout",
          "text": [
            "Writing c.c\n"
          ]
        }
      ]
    },
    {
      "cell_type": "code",
      "source": [
        "! gcc -fopenmp -o c c.c\n",
        "! ./c"
      ],
      "metadata": {
        "colab": {
          "base_uri": "https://localhost:8080/"
        },
        "id": "6nFkJtxjxUAt",
        "outputId": "3022cf38-f8f8-462c-c552-0b9a8872b987"
      },
      "execution_count": null,
      "outputs": [
        {
          "output_type": "stream",
          "name": "stdout",
          "text": [
            "dentro = -1\n",
            "dentro = -1\n",
            "fora = -1\n"
          ]
        }
      ]
    },
    {
      "cell_type": "markdown",
      "source": [
        "### shared"
      ],
      "metadata": {
        "id": "NN87M1BCKVUw"
      }
    },
    {
      "cell_type": "code",
      "source": [
        "%%writefile d.c\n",
        "#include <stdio.h>\n",
        "#include <omp.h>\n",
        "\n",
        "int main(){\n",
        "    int a = -1;\n",
        "    #pragma omp parallel shared(a)\n",
        "    {\n",
        "        printf(\"dentro antes = %d\\n\", a);\n",
        "        a = omp_get_thread_num();\n",
        "        printf(\"dentro depois = %d\\n\", a);\n",
        "    }\n",
        "    printf(\"fora = %d\\n\", a);\n",
        "    return 0;\n",
        "} // você vai passar essa varivel para dentro do bloco paralelo, porém todas as threads vao ter acesso a essa variável no enderço de memória original della, ou seja, uma thread pode alterar o valro dessa var antes de outra\n",
        "// e duas threads podem tentar acessar ela ao mesmo tempo o que pode gerar uma condição de corrida"
      ],
      "metadata": {
        "colab": {
          "base_uri": "https://localhost:8080/"
        },
        "id": "3LyBD_K9C78Q",
        "outputId": "3bf1a21e-2a80-4bec-dd80-f8a22ca99f88"
      },
      "execution_count": null,
      "outputs": [
        {
          "output_type": "stream",
          "name": "stdout",
          "text": [
            "Overwriting d.c\n"
          ]
        }
      ]
    },
    {
      "cell_type": "code",
      "source": [
        "! gcc -fopenmp -o d d.c\n",
        "! ./d"
      ],
      "metadata": {
        "colab": {
          "base_uri": "https://localhost:8080/"
        },
        "id": "TRjB73fLDDby",
        "outputId": "1ba5c168-6d7f-415e-afe7-447cbcd4203c"
      },
      "execution_count": null,
      "outputs": [
        {
          "output_type": "stream",
          "name": "stdout",
          "text": [
            "dentro antes = -1\n",
            "dentro depois = 1\n",
            "dentro antes = 1\n",
            "dentro depois = 0\n",
            "fora = 0\n"
          ]
        }
      ]
    },
    {
      "cell_type": "markdown",
      "source": [
        "### reduction"
      ],
      "metadata": {
        "id": "8MLwp4ZpKYaK"
      }
    },
    {
      "cell_type": "markdown",
      "source": [
        "reduction vai fazer um loop\n",
        "\n",
        "\n",
        "```\n",
        "for i in sub_a:\n",
        "    a (op)= i\n",
        "```\n",
        "\n",
        "onde i é o valor assumido por elem_sub_a ao final do bloco paralelo"
      ],
      "metadata": {
        "id": "sKkV1YpcIGSY"
      }
    },
    {
      "cell_type": "code",
      "source": [
        "%%writefile e.c\n",
        "#include <stdio.h>\n",
        "#include <omp.h>\n",
        "\n",
        "int main(){\n",
        "    int a = 1;\n",
        "    omp_set_num_threads(8);\n",
        "    #pragma omp parallel reduction(*:a)\n",
        "    {\n",
        "        a = 2;\n",
        "    }\n",
        "    printf(\"fora = %d\\n\", a);\n",
        "    return 0;\n",
        "} //passa a var que nem o firstprivate, onde cada thread vai ter uma instância própria da var com a diferença de que o valor inicial em cada thread não é o valor que a var possuia antes do bloco paralelo,\n",
        "// o valor que a var assume dentro de cada thread é 0, e ao final do bloco elas são unidas pela operação passada no reduction"
      ],
      "metadata": {
        "colab": {
          "base_uri": "https://localhost:8080/"
        },
        "id": "Bco-o9d4GK9V",
        "outputId": "ac7acb95-3ba4-4523-8345-d9588202dfc3"
      },
      "execution_count": null,
      "outputs": [
        {
          "output_type": "stream",
          "name": "stdout",
          "text": [
            "Writing e.c\n"
          ]
        }
      ]
    },
    {
      "cell_type": "code",
      "source": [
        "! gcc -fopenmp -o e e.c\n",
        "! ./e"
      ],
      "metadata": {
        "colab": {
          "base_uri": "https://localhost:8080/"
        },
        "id": "qrjMQ6UkGMCU",
        "outputId": "2f854cc4-eef9-43a1-c077-8c340ff39821"
      },
      "execution_count": null,
      "outputs": [
        {
          "output_type": "stream",
          "name": "stdout",
          "text": [
            "fora = 256\n"
          ]
        }
      ]
    },
    {
      "cell_type": "markdown",
      "source": [
        "## for"
      ],
      "metadata": {
        "id": "2xK4NFoKMlhL"
      }
    },
    {
      "cell_type": "code",
      "source": [
        "%%writefile f.c\n",
        "#include <stdio.h>\n",
        "#include <omp.h>\n",
        "\n",
        "#define SIZE 5\n",
        "\n",
        "\n",
        "int main(){\n",
        "    int a[SIZE];\n",
        "    int b[SIZE];\n",
        "    int c[SIZE];\n",
        "\n",
        "    for (int i = 0; i < SIZE; i++) {\n",
        "        a[i] = i + 1;\n",
        "        b[i] = 2 * (i + 1);\n",
        "    }\n",
        "\n",
        "    for (int i = 0; i < SIZE; i++) {\n",
        "            c[i] = a[i] + b[i];\n",
        "        }\n",
        "\n",
        "    printf(\"Vector a: \");\n",
        "    for (int i = 0; i < SIZE; i++) {\n",
        "        printf(\"%d \", a[i]);\n",
        "    }\n",
        "    printf(\"\\n\");\n",
        "\n",
        "    printf(\"Vector b: \");\n",
        "    for (int i = 0; i < SIZE; i++) {\n",
        "        printf(\"%d \", b[i]);\n",
        "    }\n",
        "    printf(\"\\n\");\n",
        "\n",
        "    printf(\"Vector c: \");\n",
        "    for (int i = 0; i < SIZE; i++) {\n",
        "        printf(\"%d \", c[i]);\n",
        "    }\n",
        "    printf(\"\\n\");\n",
        "\n",
        "    return 0;\n",
        "}"
      ],
      "metadata": {
        "colab": {
          "base_uri": "https://localhost:8080/"
        },
        "id": "UwLXx92yIwyQ",
        "outputId": "47972690-3cc5-42dd-ed24-b4fd2029fbc5"
      },
      "execution_count": null,
      "outputs": [
        {
          "output_type": "stream",
          "name": "stdout",
          "text": [
            "Overwriting f.c\n"
          ]
        }
      ]
    },
    {
      "cell_type": "code",
      "source": [
        "! gcc -fopenmp -o f f.c\n",
        "! ./f"
      ],
      "metadata": {
        "colab": {
          "base_uri": "https://localhost:8080/"
        },
        "id": "DbLKpMYaIxHi",
        "outputId": "ab91618e-b646-4e4d-cca6-a318d18b5f89"
      },
      "execution_count": null,
      "outputs": [
        {
          "output_type": "stream",
          "name": "stdout",
          "text": [
            "Vector a: 1 2 3 4 5 \n",
            "Vector b: 2 4 6 8 10 \n",
            "Vector c: 3 6 9 12 15 \n"
          ]
        }
      ]
    },
    {
      "cell_type": "code",
      "source": [
        "%%writefile g.c\n",
        "#include <stdio.h>\n",
        "#include <omp.h>\n",
        "\n",
        "#define SIZE 5\n",
        "\n",
        "\n",
        "int main(){\n",
        "    int a[SIZE];\n",
        "    int b[SIZE];\n",
        "    int c[SIZE];\n",
        "\n",
        "    for (int i = 0; i < SIZE; i++) {\n",
        "        a[i] = i + 1;\n",
        "        b[i] = 2 * (i + 1);\n",
        "    }\n",
        "\n",
        "    #pragma omp parallel for\n",
        "        for (int i = 0; i < SIZE; i++) {\n",
        "            c[i] = a[i] + b[i];\n",
        "        }\n",
        "\n",
        "    printf(\"Vector a: \");\n",
        "    for (int i = 0; i < SIZE; i++) {\n",
        "        printf(\"%d \", a[i]);\n",
        "    }\n",
        "    printf(\"\\n\");\n",
        "\n",
        "    printf(\"Vector b: \");\n",
        "    for (int i = 0; i < SIZE; i++) {\n",
        "        printf(\"%d \", b[i]);\n",
        "    }\n",
        "    printf(\"\\n\");\n",
        "\n",
        "    printf(\"Vector c: \");\n",
        "    for (int i = 0; i < SIZE; i++) {\n",
        "        printf(\"%d \", c[i]);\n",
        "    }\n",
        "    printf(\"\\n\");\n",
        "\n",
        "    return 0;\n",
        "}"
      ],
      "metadata": {
        "colab": {
          "base_uri": "https://localhost:8080/"
        },
        "id": "aCrD59lbOtPh",
        "outputId": "5afe6981-3aea-41c5-ffd8-4a24533c639a"
      },
      "execution_count": null,
      "outputs": [
        {
          "output_type": "stream",
          "name": "stdout",
          "text": [
            "Writing g.c\n"
          ]
        }
      ]
    },
    {
      "cell_type": "code",
      "source": [
        "! gcc -fopenmp -o g g.c\n",
        "! ./g"
      ],
      "metadata": {
        "colab": {
          "base_uri": "https://localhost:8080/"
        },
        "id": "SkZ8U2s5OxUK",
        "outputId": "7183bce4-183e-4518-bf00-9c155d412fca"
      },
      "execution_count": null,
      "outputs": [
        {
          "output_type": "stream",
          "name": "stdout",
          "text": [
            "Vector a: 1 2 3 4 5 \n",
            "Vector b: 2 4 6 8 10 \n",
            "Vector c: 3 6 9 12 15 \n"
          ]
        }
      ]
    },
    {
      "cell_type": "code",
      "source": [
        "%%writefile h.c\n",
        "#include <stdio.h>\n",
        "#include <omp.h>\n",
        "\n",
        "#define SIZE 5\n",
        "\n",
        "\n",
        "int main(){\n",
        "    int a[SIZE];\n",
        "    int b[SIZE];\n",
        "    int c = 0;\n",
        "\n",
        "    for (int i = 0; i < SIZE; i++) {\n",
        "        a[i] = i + 1;\n",
        "        b[i] = 2 * (i + 1);\n",
        "    }\n",
        "\n",
        "    for (int i = 0; i < SIZE; i++) {\n",
        "            c += a[i] * b[i];\n",
        "        }\n",
        "\n",
        "    printf(\"Vector a: \");\n",
        "    for (int i = 0; i < SIZE; i++) {\n",
        "        printf(\"%d \", a[i]);\n",
        "    }\n",
        "    printf(\"\\n\");\n",
        "\n",
        "    printf(\"Vector b: \");\n",
        "    for (int i = 0; i < SIZE; i++) {\n",
        "        printf(\"%d \", b[i]);\n",
        "    }\n",
        "    printf(\"\\n\");\n",
        "\n",
        "    printf(\"sum c: %d\\n\", c);\n",
        "\n",
        "    return 0;\n",
        "}"
      ],
      "metadata": {
        "colab": {
          "base_uri": "https://localhost:8080/"
        },
        "id": "XPjCTljpPj7w",
        "outputId": "72dee019-f9c0-4c7c-ec21-98dcbd3eb902"
      },
      "execution_count": null,
      "outputs": [
        {
          "output_type": "stream",
          "name": "stdout",
          "text": [
            "Writing h.c\n"
          ]
        }
      ]
    },
    {
      "cell_type": "code",
      "source": [
        "! gcc -fopenmp -o h h.c\n",
        "! ./h"
      ],
      "metadata": {
        "colab": {
          "base_uri": "https://localhost:8080/"
        },
        "id": "O0SIf5m5PjAy",
        "outputId": "131c6137-4e23-41f2-d74d-d3081126e138"
      },
      "execution_count": null,
      "outputs": [
        {
          "output_type": "stream",
          "name": "stdout",
          "text": [
            "Vector a: 1 2 3 4 5 \n",
            "Vector b: 2 4 6 8 10 \n",
            "sum c: 110\n"
          ]
        }
      ]
    },
    {
      "cell_type": "code",
      "source": [
        "%%writefile i.c\n",
        "#include <stdio.h>\n",
        "#include <omp.h>\n",
        "\n",
        "#define SIZE 5\n",
        "\n",
        "\n",
        "int main(){\n",
        "    int a[SIZE];\n",
        "    int b[SIZE];\n",
        "    int c = 0;\n",
        "\n",
        "    for (int i = 0; i < SIZE; i++) {\n",
        "        a[i] = i + 1;\n",
        "        b[i] = 2 * (i + 1);\n",
        "    }\n",
        "\n",
        "    #pragma omp parallel shared(a, b)\n",
        "    #pragma omp for schedule(static) reduction(+:c)\n",
        "        for (int i = 0; i < SIZE; i++) {\n",
        "            c += a[i] * b[i];\n",
        "        }\n",
        "\n",
        "    printf(\"Vector a: \");\n",
        "    for (int i = 0; i < SIZE; i++) {\n",
        "        printf(\"%d \", a[i]);\n",
        "    }\n",
        "    printf(\"\\n\");\n",
        "\n",
        "    printf(\"Vector b: \");\n",
        "    for (int i = 0; i < SIZE; i++) {\n",
        "        printf(\"%d \", b[i]);\n",
        "    }\n",
        "    printf(\"\\n\");\n",
        "\n",
        "    printf(\"a dot b: %d\\n\", c);\n",
        "\n",
        "    return 0;\n",
        "}"
      ],
      "metadata": {
        "colab": {
          "base_uri": "https://localhost:8080/"
        },
        "id": "QHvmsSn1QTOD",
        "outputId": "c63b97bb-a0be-4570-a1d4-7428e86a8872"
      },
      "execution_count": null,
      "outputs": [
        {
          "output_type": "stream",
          "name": "stdout",
          "text": [
            "Overwriting i.c\n"
          ]
        }
      ]
    },
    {
      "cell_type": "code",
      "source": [
        "! gcc -fopenmp -o i i.c\n",
        "! ./i"
      ],
      "metadata": {
        "colab": {
          "base_uri": "https://localhost:8080/"
        },
        "id": "8vUkyMkYQTmh",
        "outputId": "a97f872d-02c7-42ef-c792-f128b4b14187"
      },
      "execution_count": null,
      "outputs": [
        {
          "output_type": "stream",
          "name": "stdout",
          "text": [
            "Vector a: 1 2 3 4 5 \n",
            "Vector b: 2 4 6 8 10 \n",
            "a dot b: 110\n"
          ]
        }
      ]
    },
    {
      "cell_type": "code",
      "source": [
        "collapse(2)"
      ],
      "metadata": {
        "id": "I6e8Nz6IjijI"
      },
      "execution_count": null,
      "outputs": []
    },
    {
      "cell_type": "markdown",
      "source": [
        "## sections"
      ],
      "metadata": {
        "id": "UIfHT9J-QruF"
      }
    },
    {
      "cell_type": "code",
      "source": [
        "%%writefile j.c\n",
        "#include <stdio.h>\n",
        "#include <omp.h>\n",
        "\n",
        "#define SIZE 5\n",
        "\n",
        "void a(){\n",
        "    printf(\"Hello from f_A\\n\");\n",
        "}\n",
        "\n",
        "void b(){\n",
        "    printf(\"Hello from f_B\\n\");\n",
        "}\n",
        "\n",
        "void c(){\n",
        "    printf(\"Hello from f_C\\n\");\n",
        "}\n",
        "\n",
        "int main(){\n",
        "\n",
        "    #pragma omp parallel\n",
        "    {\n",
        "        #pragma omp sections\n",
        "        {\n",
        "            #pragma omp section\n",
        "            a();\n",
        "            #pragma omp section\n",
        "            b();\n",
        "            #pragma omp section\n",
        "            c();\n",
        "        }\n",
        "    }\n",
        "\n",
        "    return 0;\n",
        "}// zona de sessões criadas onde  cada sessão vai ser executado por uma única thread"
      ],
      "metadata": {
        "colab": {
          "base_uri": "https://localhost:8080/"
        },
        "id": "-3Wp1T1YQW3P",
        "outputId": "77e9ff76-89c2-4093-9bb5-2f24a5dae7ad"
      },
      "execution_count": null,
      "outputs": [
        {
          "output_type": "stream",
          "name": "stdout",
          "text": [
            "Overwriting j.c\n"
          ]
        }
      ]
    },
    {
      "cell_type": "code",
      "source": [
        "! gcc -fopenmp -o j j.c\n",
        "! ./j"
      ],
      "metadata": {
        "colab": {
          "base_uri": "https://localhost:8080/"
        },
        "id": "hl8RPRQqQXFj",
        "outputId": "50f2dfbe-57df-4985-fde2-9d62122a8dd8"
      },
      "execution_count": null,
      "outputs": [
        {
          "output_type": "stream",
          "name": "stdout",
          "text": [
            "Hello from f_A\n",
            "Hello from f_B\n",
            "Hello from f_C\n"
          ]
        }
      ]
    },
    {
      "cell_type": "markdown",
      "source": [
        "\n",
        "\n",
        "```\n",
        "nowait\n",
        "```\n",
        "\n"
      ],
      "metadata": {
        "id": "gumDlJVpW6LX"
      }
    },
    {
      "cell_type": "markdown",
      "source": [
        "## sincronização"
      ],
      "metadata": {
        "id": "-tqMwD7HQtXQ"
      }
    },
    {
      "cell_type": "markdown",
      "source": [
        "### single"
      ],
      "metadata": {
        "id": "Wmt9fAAmW8D4"
      }
    },
    {
      "cell_type": "code",
      "source": [
        "%%writefile k.c\n",
        "#include <stdio.h>\n",
        "#include <omp.h>\n",
        "\n",
        "#define SIZE 5\n",
        "\n",
        "\n",
        "int main(){\n",
        "\n",
        "    #pragma omp parallel num_threads(8)\n",
        "    {\n",
        "        printf(\"Thread %d: iniciada\\n\", omp_get_thread_num());\n",
        "        #pragma omp single\n",
        "        printf(\"Total de threads = %d\\n\", omp_get_num_threads());\n",
        "    }\n",
        "\n",
        "    return 0;\n",
        "} //n sei se é q nem o paralel ou q vc só pode colocar um for, o que tiver no single vai ser executado por uma única thread só"
      ],
      "metadata": {
        "colab": {
          "base_uri": "https://localhost:8080/"
        },
        "id": "lE2_1rKlQvuH",
        "outputId": "862322c5-9382-48f5-9ac8-28521a3b5b63"
      },
      "execution_count": null,
      "outputs": [
        {
          "output_type": "stream",
          "name": "stdout",
          "text": [
            "Overwriting k.c\n"
          ]
        }
      ]
    },
    {
      "cell_type": "code",
      "source": [
        "! gcc -fopenmp -o k k.c\n",
        "! ./k"
      ],
      "metadata": {
        "colab": {
          "base_uri": "https://localhost:8080/"
        },
        "id": "eNdwp_DNW9Pq",
        "outputId": "7c3dadd9-85e5-4977-830e-a6fcf594adf5"
      },
      "execution_count": null,
      "outputs": [
        {
          "output_type": "stream",
          "name": "stdout",
          "text": [
            "Thread 4: iniciada\n",
            "Total de threads = 8\n",
            "Thread 0: iniciada\n",
            "Thread 3: iniciada\n",
            "Thread 2: iniciada\n",
            "Thread 6: iniciada\n",
            "Thread 1: iniciada\n",
            "Thread 7: iniciada\n",
            "Thread 5: iniciada\n"
          ]
        }
      ]
    },
    {
      "cell_type": "markdown",
      "source": [
        "### critical"
      ],
      "metadata": {
        "id": "RmRKD9ZwW-Xa"
      }
    },
    {
      "cell_type": "code",
      "source": [
        "%%writefile l.c\n",
        "#include <stdio.h>\n",
        "#include <omp.h>\n",
        "\n",
        "#define SIZE 5\n",
        "\n",
        "\n",
        "int main(){\n",
        "    int x = 0;\n",
        "    #pragma omp parallel num_threads(8)\n",
        "    {\n",
        "        #pragma omp critical\n",
        "        x++;\n",
        "    }\n",
        "    printf(\"x = %d\\n\", x);\n",
        "    return 0;\n",
        "} // o que tiver acontecendo dentro da zona crítica vai ser executado de maneira sequencial (que evita condição de corrida)"
      ],
      "metadata": {
        "colab": {
          "base_uri": "https://localhost:8080/"
        },
        "id": "37o9SqGpW-Gk",
        "outputId": "e5bf5538-985e-4a9d-aaf1-c220b4f87a47"
      },
      "execution_count": null,
      "outputs": [
        {
          "output_type": "stream",
          "name": "stdout",
          "text": [
            "Overwriting l.c\n"
          ]
        }
      ]
    },
    {
      "cell_type": "code",
      "source": [
        "! gcc -fopenmp -o l l.c\n",
        "! ./l"
      ],
      "metadata": {
        "colab": {
          "base_uri": "https://localhost:8080/"
        },
        "id": "4GnGAZ8-Qv8O",
        "outputId": "c1475dbe-608a-41a3-88c9-9c834c6b5c6f"
      },
      "execution_count": null,
      "outputs": [
        {
          "output_type": "stream",
          "name": "stdout",
          "text": [
            "x = 8\n"
          ]
        }
      ]
    },
    {
      "cell_type": "markdown",
      "source": [
        "### barrier"
      ],
      "metadata": {
        "id": "vOzg7hu2aBEC"
      }
    },
    {
      "cell_type": "code",
      "source": [
        "%%writefile m.c\n",
        "#include <stdio.h>\n",
        "#include <omp.h>\n",
        "\n",
        "void compute_a(int x){\n",
        "    #pragma omp for\n",
        "    for(int i=0; i<x; i++){\n",
        "        printf(\"compute_a: i <=> %d\\n\", i);\n",
        "    }\n",
        "}\n",
        "\n",
        "void compute_b(int x){\n",
        "    #pragma omp for\n",
        "    for(int i=0; i<x; i++){\n",
        "        printf(\"compute_b: i <=> %d\\n\", i+100);\n",
        "    }\n",
        "}\n",
        "\n",
        "\n",
        "\n",
        "int main(){\n",
        "    int x = 5;\n",
        "    #pragma omp parallel num_threads(8)\n",
        "    {\n",
        "        compute_a(x);\n",
        "        //#pragma omp barrier\n",
        "        compute_b(x);\n",
        "    }\n",
        "    return 0;\n",
        "}"
      ],
      "metadata": {
        "colab": {
          "base_uri": "https://localhost:8080/"
        },
        "id": "CvIxcbYYbNv8",
        "outputId": "c8f51750-bf2d-459a-aae2-286ca19743d1"
      },
      "execution_count": null,
      "outputs": [
        {
          "output_type": "stream",
          "name": "stdout",
          "text": [
            "Overwriting m.c\n"
          ]
        }
      ]
    },
    {
      "cell_type": "code",
      "source": [
        "! gcc -fopenmp -o m m.c\n",
        "! ./m"
      ],
      "metadata": {
        "colab": {
          "base_uri": "https://localhost:8080/"
        },
        "id": "jPJdOMsWbNlJ",
        "outputId": "e213cec9-bb39-4e12-a85b-10dfa9b4b637"
      },
      "execution_count": null,
      "outputs": [
        {
          "output_type": "stream",
          "name": "stdout",
          "text": [
            "compute_a: i <=> 0\n",
            "compute_a: i <=> 4\n",
            "compute_a: i <=> 3\n",
            "compute_a: i <=> 2\n",
            "compute_a: i <=> 1\n",
            "compute_b: i <=> 100\n",
            "compute_b: i <=> 104\n",
            "compute_b: i <=> 103\n",
            "compute_b: i <=> 102\n",
            "compute_b: i <=> 101\n"
          ]
        }
      ]
    },
    {
      "cell_type": "code",
      "source": [
        "%%writefile m.c\n",
        "#include <stdio.h>\n",
        "#include <omp.h>\n",
        "\n",
        "void compute_a(int x){\n",
        "    #pragma omp for\n",
        "    for(int i=0; i<x; i++){\n",
        "        printf(\"compute_a: i <=> %d\\n\", i);\n",
        "    }\n",
        "}\n",
        "\n",
        "void compute_b(int x){\n",
        "    #pragma omp for\n",
        "    for(int i=0; i<x; i++){\n",
        "        printf(\"compute_b: i <=> %d\\n\", i+100);\n",
        "    }\n",
        "}\n",
        "\n",
        "\n",
        "\n",
        "int main(){\n",
        "    int x = 5;\n",
        "    #pragma omp parallel num_threads(8)\n",
        "    {\n",
        "        compute_a(x);\n",
        "        #pragma omp barrier\n",
        "        compute_b(x);\n",
        "    }\n",
        "    return 0;\n",
        "}"
      ],
      "metadata": {
        "colab": {
          "base_uri": "https://localhost:8080/"
        },
        "id": "3HPfcDYHZ-fZ",
        "outputId": "59580872-4c64-4b1f-e84d-80c2ec6b925b"
      },
      "execution_count": null,
      "outputs": [
        {
          "output_type": "stream",
          "name": "stdout",
          "text": [
            "Overwriting m.c\n"
          ]
        }
      ]
    },
    {
      "cell_type": "code",
      "source": [
        "! gcc -fopenmp -o m m.c\n",
        "! ./m"
      ],
      "metadata": {
        "colab": {
          "base_uri": "https://localhost:8080/"
        },
        "id": "dKYHQKjpaPTW",
        "outputId": "21704ab3-dc6d-482c-c529-b5a2514837ea"
      },
      "execution_count": null,
      "outputs": [
        {
          "output_type": "stream",
          "name": "stdout",
          "text": [
            "compute_a: i <=> 0\n",
            "compute_a: i <=> 2\n",
            "compute_a: i <=> 4\n",
            "compute_a: i <=> 3\n",
            "compute_a: i <=> 1\n",
            "compute_b: i <=> 100\n",
            "compute_b: i <=> 102\n",
            "compute_b: i <=> 104\n",
            "compute_b: i <=> 103\n",
            "compute_b: i <=> 101\n"
          ]
        }
      ]
    },
    {
      "cell_type": "markdown",
      "source": [
        "# exercises"
      ],
      "metadata": {
        "id": "IqxMUISXcpEc"
      }
    },
    {
      "cell_type": "code",
      "source": [
        "%%writefile quest3.c\n",
        "#include <stdio.h>\n",
        "#include <omp.h>\n",
        "#include <stdlib.h>\n",
        "\n",
        "\n",
        "\n",
        "int main(){\n",
        "    int N = 5;\n",
        "    int *a, *b, *c;\n",
        "\n",
        "    a = (int *)malloc(N * sizeof(int));\n",
        "    b = (int *)malloc(N * sizeof(int));\n",
        "    c = (int *)malloc(N * sizeof(int));\n",
        "\n",
        "    #pragma omp parallel for\n",
        "        for(int i =0; i < N; i++){\n",
        "            a[i] = 2*i;\n",
        "            b[i] = 2*i + 1;\n",
        "            c[i] = 0;\n",
        "        }\n",
        "\n",
        "    #pragma omp parallel for\n",
        "        for(int i =0; i < N; i++){\n",
        "            c[i] = a[i] + b[i];\n",
        "        }\n",
        "\n",
        "    printf(\"Primeiro vetor: \");\n",
        "    for (int i = 0; i < N; i++) {\n",
        "        printf(\"%d \", a[i]);\n",
        "    }\n",
        "    printf(\"\\n\");\n",
        "\n",
        "    printf(\"Segundo vetor: \");\n",
        "    for (int i = 0; i < N; i++) {\n",
        "        printf(\"%d \", b[i]);\n",
        "    }\n",
        "    printf(\"\\n\");\n",
        "\n",
        "\n",
        "    printf(\"Terceiro vetor: \");\n",
        "    for (int i = 0; i < N; i++) {\n",
        "        printf(\"%d \", c[i]);\n",
        "    }\n",
        "    printf(\"\\n\");\n",
        "\n",
        "    // Free memory allocated for vectors\n",
        "    free(a);\n",
        "    free(b);\n",
        "    free(c);\n",
        "\n",
        "    return 0;\n",
        "}"
      ],
      "metadata": {
        "id": "krJyJF13co2i"
      },
      "execution_count": null,
      "outputs": []
    },
    {
      "cell_type": "code",
      "source": [
        "%%writefile ex1.c\n",
        "#include <stdio.h>\n",
        "#include <stdlib.h>\n",
        "#include <omp.h>\n",
        "\n",
        "#define SOMA_INICIAL 1000\n",
        "\n",
        "int main(){\n",
        "  int n = 25;\n",
        "  int soma, a[n];\n",
        "\n",
        "  for (int i=0; i<n; i++){\n",
        "    a[i]=i;\n",
        "  }\n",
        "\n",
        "  soma = SOMA_INICIAL;\n",
        "\n",
        "  #pragma omp parallel for reduction(+:soma)\n",
        "  for (int i=0; i<n; i++){\n",
        "    soma = a[i]+soma;\n",
        "  }\n",
        "\n",
        "  printf(\"Valor da soma: %d\\n\", soma);\n",
        "  return 0;\n",
        "}\n"
      ],
      "metadata": {
        "colab": {
          "base_uri": "https://localhost:8080/"
        },
        "id": "YSkV204Jmrp9",
        "outputId": "07bf2acd-9cc9-4541-9797-1f80aa0abd1f"
      },
      "execution_count": null,
      "outputs": [
        {
          "output_type": "stream",
          "name": "stdout",
          "text": [
            "Overwriting ex1.c\n"
          ]
        }
      ]
    },
    {
      "cell_type": "code",
      "source": [
        "! gcc -fopenmp -o ex1 ex1.c\n",
        "! ./ex1"
      ],
      "metadata": {
        "colab": {
          "base_uri": "https://localhost:8080/"
        },
        "id": "iuEv5oGEmuvP",
        "outputId": "c04570d4-051e-46f3-b3a2-01543f5010a4"
      },
      "execution_count": null,
      "outputs": [
        {
          "output_type": "stream",
          "name": "stdout",
          "text": [
            "Valor da soma: 1300\n"
          ]
        }
      ]
    },
    {
      "cell_type": "code",
      "source": [
        "%%writefile ex2.c\n",
        "#include <stdio.h>\n",
        "#include <omp.h>\n",
        "\n",
        "void parallelAddition (unsigned N, const double *A, const double *B, double *C)\n",
        "{\n",
        "    unsigned i;\n",
        "\n",
        "    #pragma omp parallel for shared (A,B,C,N) private(i) schedule(static)\n",
        "    for (i = 0; i < N; ++i)\n",
        "    {\n",
        "        C[i] = A[i] + B[i];\n",
        "    }\n",
        "}\n",
        "\n",
        "int main (int argc, char *argv[]) {\n",
        "\n",
        "    parallelAddition()\n",
        "\n",
        "    return 0;\n",
        "}"
      ],
      "metadata": {
        "id": "LDyUn8vcnTTu"
      },
      "execution_count": null,
      "outputs": []
    },
    {
      "cell_type": "code",
      "source": [
        "! gcc -fopenmp -o ex1 ex1.c\n",
        "! ./ex1"
      ],
      "metadata": {
        "id": "ByhsglVxnT5h"
      },
      "execution_count": null,
      "outputs": []
    },
    {
      "cell_type": "code",
      "source": [
        "%%writefile ex3.c\n",
        "\n",
        "#include <stdio.h>\n",
        "#include <stdlib.h>\n",
        "#include <time.h>\n",
        "#include <omp.h>\n",
        "\n",
        "int main() {\n",
        "    //const int tamanho = 1000;\n",
        "    const int tamanho = 2<<18;\n",
        "    int vetor1[tamanho];\n",
        "    int vetor2[tamanho];\n",
        "    int vetorSoma[tamanho];\n",
        "    int i;\n",
        "\n",
        "    // Inicializando a semente para geração de números aleatórios\n",
        "    srand(time(NULL));\n",
        "\n",
        "    double inicio, fim;\n",
        "    inicio = omp_get_wtime();           //funcao omp de tempo\n",
        "\n",
        "    // Inicializando os vetores com valores aleatórios entre 0 e 9\n",
        "    for (i = 0; i < tamanho; i++) {\n",
        "        vetor1[i] = rand() % 10;\n",
        "        vetor2[i] = rand() % 10;\n",
        "        vetorSoma[i] = 0;\n",
        "    }\n",
        "\n",
        "    // Calculando a soma dos elementos dos vetores e inserindo no vetorSoma\n",
        "    for (i = 0; i < tamanho; i++) {\n",
        "        vetorSoma[i] = vetor1[i] + vetor2[i];\n",
        "    }\n",
        "\n",
        "    // Calculando a soma de cada elemento de cada vetor\n",
        "    int somaVetor1 = 0;\n",
        "    int somaVetor2 = 0;\n",
        "    int somaVetorSoma = 0;\n",
        "\n",
        "    for (i = 0; i < tamanho; i++) {\n",
        "        somaVetor1 += vetor1[i];\n",
        "        somaVetor2 += vetor2[i];\n",
        "        somaVetorSoma += vetorSoma[i];\n",
        "    }\n",
        "\n",
        "    fim = omp_get_wtime();           //funcao omp de tempo\n",
        "\n",
        "    // Exibindo os resultados\n",
        "    printf(\"Soma do vetor1: %d\\n\", somaVetor1);\n",
        "    printf(\"Soma do vetor2: %d\\n\", somaVetor2);\n",
        "    printf(\"Soma do vetor Soma: %d\\n\", somaVetorSoma);\n",
        "\n",
        "    fim = omp_get_wtime();           //funcao omp de tempo\n",
        "    printf(\"\\n\\nTempo total: %.6f segundos.\\n\", fim-inicio);\n",
        "\n",
        "    return 0;\n",
        "}\n"
      ],
      "metadata": {
        "colab": {
          "base_uri": "https://localhost:8080/"
        },
        "id": "BZRN51OznuuD",
        "outputId": "8ca737ff-ca31-4f1c-fffe-268f573d2501"
      },
      "execution_count": null,
      "outputs": [
        {
          "output_type": "stream",
          "name": "stdout",
          "text": [
            "Writing ex3.c\n"
          ]
        }
      ]
    },
    {
      "cell_type": "code",
      "source": [
        "!gcc -o ex3 ex3.c -fopenmp\n",
        "!./ex3"
      ],
      "metadata": {
        "colab": {
          "base_uri": "https://localhost:8080/"
        },
        "id": "oJrqAfS-nwUy",
        "outputId": "86028b31-5af8-4f32-f528-61ef1f8183f7"
      },
      "execution_count": null,
      "outputs": [
        {
          "output_type": "stream",
          "name": "stdout",
          "text": [
            "Soma do vetor1: 2357930\n",
            "Soma do vetor2: 2359033\n",
            "Soma do vetor Soma: 4716963\n",
            "\n",
            "\n",
            "Tempo total: 0.027491 segundos.\n"
          ]
        }
      ]
    },
    {
      "cell_type": "code",
      "source": [
        "%%writefile fibonacci_tasks_inc.c\n",
        "\n",
        "#include <stdio.h>\n",
        "#include <omp.h>\n",
        "\n",
        "long fib (int n) { return (n < 2 ? 1 : fib (n - 1) + fib (n - 2)); }\n",
        "\n",
        "int main (int argc, char *argv[]) {\n",
        "  int max = 40;\n",
        "  #pragma omp parallel\n",
        "    #pragma omp single\n",
        "      for (int n = 1; n <= max; n++) /* bottom-up */\n",
        "      //for (int n = max; n >= 1; n--) /* top-down */\n",
        "        #pragma omp task\n",
        "          printf (\"%d: %d %ld\\n\", omp_get_thread_num(), n, fib (n));\n",
        "  return 0;\n",
        "}"
      ],
      "metadata": {
        "id": "f6iPBWqhoAwb"
      },
      "execution_count": null,
      "outputs": []
    },
    {
      "cell_type": "code",
      "source": [
        "%env OMP_NUM_THREADS=4\n",
        "%env OMP_SCHEDULE=static,1\n",
        "! gcc -fopenmp -o fibonacci_tasks_inc fibonacci_tasks_inc.c\n",
        "! time ./fibonacci_tasks_inc"
      ],
      "metadata": {
        "id": "s1_Ntd3ioD9r"
      },
      "execution_count": null,
      "outputs": []
    },
    {
      "cell_type": "code",
      "source": [
        "%%writefile quicksort.c\n",
        "#include <stdio.h>\n",
        "#include <stdlib.h>\n",
        "#include <string.h>\n",
        "#include <omp.h>\n",
        "\n",
        "int compare (const char *str1, const char *str2) {\n",
        "  int len1 = strlen (str1);\n",
        "  int len2 = strlen (str2);\n",
        "  if (len1 == len2) return strcmp (str1, str2);\n",
        "  return len1 - len2;\n",
        "}\n",
        "\n",
        "void par_qsort (char **data, int lo, int hi,\n",
        "                int (*compare)(const char *, const char*)) {\n",
        "  if (lo > hi) return;\n",
        "  int l = lo;\n",
        "  int h = hi;\n",
        "  char *p = data[(hi + lo) / 2];\n",
        "  while (l <= h) {\n",
        "    while (compare (data[l], p) < 0) l++;\n",
        "    while (compare (data[h], p) > 0) h--;\n",
        "    if (l <= h) {\n",
        "      char *tmp = data[l]; data[l] = data[h]; data[h] = tmp;\n",
        "      l++; h--;\n",
        "    }\n",
        "  }\n",
        "  #pragma omp task final(h - lo < 1000)\n",
        "    par_qsort (data, lo, h, compare);\n",
        "  #pragma omp task final(hi - l < 1000)\n",
        "    par_qsort (data, l, hi, compare);\n",
        "}\n",
        "\n",
        "int main (int argc, char *argv[]) {\n",
        "  int seed = 0;\n",
        "  int num_strings = 100;\n",
        "  char **strings;\n",
        "  srandom (seed);\n",
        "  strings = (char**)malloc (num_strings * sizeof (char*));\n",
        "  for (int s = 0; s < num_strings; s++) {\n",
        "    int len = random() % 64;\n",
        "    strings[s] = (char*)malloc ((len + 1) * sizeof (char));\n",
        "    for (int c = 0; c < len; c++)\n",
        "      strings[s][c] = 'A' + random() % 26;\n",
        "    strings[s][len] = '\\0';\n",
        "  }\n",
        "  #pragma omp parallel\n",
        "    #pragma omp single\n",
        "      par_qsort (strings, 0, num_strings - 1, compare);\n",
        "  return 0;\n",
        "}"
      ],
      "metadata": {
        "id": "i4d8Wu3JoEN2"
      },
      "execution_count": null,
      "outputs": []
    },
    {
      "cell_type": "code",
      "source": [
        "%env OMP_NUM_THREADS=4\n",
        "%env OMP_SCHEDULE=static\n",
        "! gcc -fopenmp -o quicksort quicksort.c\n",
        "! ./quicksort"
      ],
      "metadata": {
        "id": "vk10NfR-oPeZ"
      },
      "execution_count": null,
      "outputs": []
    },
    {
      "cell_type": "code",
      "source": [
        "%%writefile tempo.c\n",
        "\n",
        "#include <stdio.h>\n",
        "#include <omp.h>\n",
        "\n",
        "int main (){\n",
        "  double inicio, fim;\n",
        "  inicio = omp_get_wtime();           //funcao omp de tempo\n",
        "  if (omp_in_parallel())\n",
        "    printf(\"Dentro da regiao paralela \\n\");\n",
        "  else\n",
        "    printf(\"Fora da regiao paralela \\n\");\n",
        "  #pragma omp parallel num_threads(6)\n",
        "    {\n",
        "      int num_procs, max_threads, tid;\n",
        "      tid = omp_get_thread_num();\n",
        "      if (tid == 0) {\n",
        "        num_procs = omp_get_num_procs();\n",
        "        max_threads = omp_get_max_threads();\n",
        "        printf(\"Numero de processadores disponiveis = %d \\n\", num_procs);\n",
        "        printf(\"Numero maximo de threads = %d \\n\", max_threads);\n",
        "        if (omp_in_parallel())\n",
        "          printf(\"Dentro da regiao paralela\\n\");\n",
        "        else\n",
        "          printf(\"Fora da regiao paralela \\n\");\n",
        "      }\n",
        "    }\n",
        "        fim = omp_get_wtime();      //funcao omp de tempo\n",
        "        printf(\"Tempo gasto na execucao = %.6f segundos \\n\", fim-inicio);\n",
        "}"
      ],
      "metadata": {
        "id": "yVr2mpEXoEdK"
      },
      "execution_count": null,
      "outputs": []
    },
    {
      "cell_type": "code",
      "source": [
        "%env OMP_NUM_THREADS=4\n",
        "%env OMP_SCHEDULE=static\n",
        "! gcc -fopenmp -o tempo tempo.c\n",
        "! ./tempo"
      ],
      "metadata": {
        "id": "V91kql4AoEqZ"
      },
      "execution_count": null,
      "outputs": []
    },
    {
      "cell_type": "code",
      "source": [
        "%%writefile ex1.c\n",
        "#include <stdio.h>\n",
        "#include <omp.h>\n",
        "\n",
        "int main(){\n",
        "    #pragma omp parallel num_threads(30)\n",
        "    {\n",
        "      #pragma omp single\n",
        "      {\n",
        "        printf(\"Impressao:\\n\");\n",
        "      }\n",
        "      if((omp_get_thread_num()%2)==0)\n",
        "        printf(\" %d \\n\", omp_get_thread_num());\n",
        "    }\n",
        "    printf(\"\\n\");\n",
        "    return 0;\n",
        "}"
      ],
      "metadata": {
        "id": "pDrIzhdWoE2q"
      },
      "execution_count": null,
      "outputs": []
    },
    {
      "cell_type": "code",
      "source": [
        "! gcc -o ex1 ex1.c -fopenmp\n",
        "! ./ex1"
      ],
      "metadata": {
        "id": "gIbHFyAqoFCc"
      },
      "execution_count": null,
      "outputs": []
    },
    {
      "cell_type": "code",
      "source": [
        "%%writefile hugo.c\n",
        "#include <stdio.h>\n",
        "#include <omp.h>\n",
        "\n",
        "int main(){\n",
        "    int a = 0;\n",
        "    #pragma omp parallel num_threads(5) reduction(+:a)\n",
        "    {\n",
        "        int x = omp_get_thread_num();\n",
        "        printf(\"thread %d before assign: a === %d\\n\", x, a);\n",
        "        a = x;\n",
        "        printf(\"thread %d after assign: a === %d\\n\", x, a);\n",
        "    }\n",
        "    printf(\"a after all: %d\\n\", a);\n",
        "    return 0;\n",
        "}"
      ],
      "metadata": {
        "colab": {
          "base_uri": "https://localhost:8080/"
        },
        "id": "5gFGQbjbJ1xA",
        "outputId": "7f12f5b5-c8c6-4ad3-82ed-493bb1826a08"
      },
      "execution_count": null,
      "outputs": [
        {
          "output_type": "stream",
          "name": "stdout",
          "text": [
            "Overwriting hugo.c\n"
          ]
        }
      ]
    },
    {
      "cell_type": "code",
      "source": [
        "! gcc -o hugo hugo.c -fopenmp\n",
        "! ./hugo"
      ],
      "metadata": {
        "colab": {
          "base_uri": "https://localhost:8080/"
        },
        "id": "4rK0uI8UJ3uv",
        "outputId": "095bdd54-177e-4c02-b158-668f0af183d0"
      },
      "execution_count": null,
      "outputs": [
        {
          "output_type": "stream",
          "name": "stdout",
          "text": [
            "thread 0 before assign: a === 0\n",
            "thread 0 after assign: a === 0\n",
            "thread 2 before assign: a === 0\n",
            "thread 2 after assign: a === 2\n",
            "thread 3 before assign: a === 0\n",
            "thread 3 after assign: a === 3\n",
            "thread 4 before assign: a === 0\n",
            "thread 1 before assign: a === 0\n",
            "thread 1 after assign: a === 1\n",
            "thread 4 after assign: a === 4\n",
            "a after all: 10\n"
          ]
        }
      ]
    },
    {
      "cell_type": "code",
      "source": [
        "%%writefile hugo2.c\n",
        "#include <stdio.h>\n",
        "#include <omp.h>\n",
        "\n",
        "int main(){\n",
        "    int N = 4;\n",
        "    int sum = 0;\n",
        "    #pragma omp parallel for num_threads(5) reduction(+:sum)\n",
        "    for(int i = 0; i< N; i++){\n",
        "        sum += 1;\n",
        "    }\n",
        "    printf(\"sum: %d\\n\", sum);\n",
        "    return 0;\n",
        "}"
      ],
      "metadata": {
        "colab": {
          "base_uri": "https://localhost:8080/"
        },
        "id": "hbDtgCxwLl2t",
        "outputId": "8bef847e-3993-4472-c264-74bb1fef47b7"
      },
      "execution_count": null,
      "outputs": [
        {
          "output_type": "stream",
          "name": "stdout",
          "text": [
            "Overwriting hugo2.c\n"
          ]
        }
      ]
    },
    {
      "cell_type": "code",
      "source": [
        "! gcc -o hugo2 hugo2.c -fopenmp\n",
        "! ./hugo2"
      ],
      "metadata": {
        "colab": {
          "base_uri": "https://localhost:8080/"
        },
        "id": "SnHq6UrwLm7F",
        "outputId": "52eb51e5-dcd3-4bb8-f7ac-e361b4e89216"
      },
      "execution_count": null,
      "outputs": [
        {
          "output_type": "stream",
          "name": "stdout",
          "text": [
            "sum: 4\n"
          ]
        }
      ]
    }
  ]
}