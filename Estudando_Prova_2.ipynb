{
  "nbformat": 4,
  "nbformat_minor": 0,
  "metadata": {
    "colab": {
      "provenance": []
    },
    "kernelspec": {
      "name": "python3",
      "display_name": "Python 3"
    },
    "language_info": {
      "name": "python"
    }
  },
  "cells": [
    {
      "cell_type": "code",
      "execution_count": 19,
      "metadata": {
        "colab": {
          "base_uri": "https://localhost:8080/"
        },
        "id": "ymlsUf4FvnAn",
        "outputId": "593f2f99-4646-42fc-f2bd-0aafb0da509b"
      },
      "outputs": [
        {
          "output_type": "stream",
          "name": "stdout",
          "text": [
            "Overwriting sexta_questao.c\n"
          ]
        }
      ],
      "source": [
        "%%writefile sexta_questao.c\n",
        "#include <stdio.h>\n",
        "#include <omp.h>\n",
        "\n",
        "int main(){\n",
        "  int nthreads;\n",
        "  #pragma omp parallel\n",
        "  {\n",
        "    int tid;\n",
        "    tid = omp_get_thread_num();\n",
        "    printf(\"Hello from thread %d\\n\", tid);\n",
        "\n",
        "    if (tid==0){\n",
        "      nthreads = omp_get_num_threads();\n",
        "      printf(\"Numero total de threads: %d\\n\", nthreads);\n",
        "    }\n",
        "\n",
        "  }\n",
        "\n",
        "  return 0;\n",
        "}"
      ]
    },
    {
      "cell_type": "code",
      "source": [
        "!gcc -o sexta_questao -fopenmp sexta_questao.c\n",
        "!./sexta_questao"
      ],
      "metadata": {
        "colab": {
          "base_uri": "https://localhost:8080/"
        },
        "id": "MVJRG5XFyhpc",
        "outputId": "0bd4975b-7749-4cac-ac98-8c4cf41a7c75"
      },
      "execution_count": 20,
      "outputs": [
        {
          "output_type": "stream",
          "name": "stdout",
          "text": [
            "Hello from thread 1\n",
            "Hello from thread 0\n",
            "Numero total de threads: 2\n"
          ]
        }
      ]
    },
    {
      "cell_type": "code",
      "source": [
        "from google.colab import drive\n",
        "drive.mount('/content/drive')"
      ],
      "metadata": {
        "id": "DfLzKNfVHqNn"
      },
      "execution_count": null,
      "outputs": []
    }
  ]
}